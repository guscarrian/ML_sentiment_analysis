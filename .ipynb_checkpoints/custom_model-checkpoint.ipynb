{
 "cells": [
  {
   "cell_type": "markdown",
   "id": "98f0917d",
   "metadata": {},
   "source": [
    "## Let's create our own sentiment analysis model"
   ]
  },
  {
   "cell_type": "code",
   "execution_count": 1,
   "id": "9a1f6300",
   "metadata": {},
   "outputs": [],
   "source": [
    "import pandas as pd\n",
    "from tqdm.notebook import tqdm"
   ]
  },
  {
   "cell_type": "markdown",
   "id": "a9e93071",
   "metadata": {},
   "source": [
    "## Loading  and formatting dataset"
   ]
  },
  {
   "cell_type": "markdown",
   "id": "dead3f43",
   "metadata": {},
   "source": [
    "According to the creators of the dataset:\n",
    "\n",
    "\"Our approach was unique because our training data was automatically created, as opposed to having humans manual annotate tweets. In our approach, we assume that any tweet with positive emoticons, like :), were positive, and tweets with negative emoticons, like :(, were negative. We used the Twitter Search API to collect these tweets by using keyword search\""
   ]
  },
  {
   "cell_type": "code",
   "execution_count": 2,
   "id": "6b24cb15",
   "metadata": {},
   "outputs": [],
   "source": [
    "sentiment140_file = \"/home/guscarrian@GU.GU.SE/ML_22/project/training.1600000.processed.noemoticon.csv\""
   ]
  },
  {
   "cell_type": "markdown",
   "id": "7a6b82c7",
   "metadata": {},
   "source": [
    "We will give the columns a header to remember the data in each of them.\n",
    "\n",
    "According to the kaggle dataset (https://www.kaggle.com/datasets/kazanova/sentiment140?resource=download):\n",
    "\n",
    "- target: the polarity of the tweet (0 = negative, 2 = neutral, 4 = positive)\n",
    "\n",
    "- ids: The id of the tweet ( 2087)\n",
    "\n",
    "- date: the date of the tweet (Sat May 16 23:58:44 UTC 2009)\n",
    "\n",
    "- flag: The query (lyx). If there is no query, then this value is NO_QUERY.\n",
    "\n",
    "- user: the user that tweeted (robotickilldozr)\n",
    "\n",
    "- text: the text of the tweet (Lyx is cool)\n",
    "\n",
    "These will be our column names. We'll use 'sentiment' instead of 'target', and 'query' instead of 'flag'."
   ]
  },
  {
   "cell_type": "code",
   "execution_count": 3,
   "id": "8cf86180",
   "metadata": {},
   "outputs": [],
   "source": [
    "columns = ['sentiment','id','date','query','user','text']"
   ]
  },
  {
   "cell_type": "code",
   "execution_count": 4,
   "id": "a8fc0b92",
   "metadata": {},
   "outputs": [],
   "source": [
    "#Loading the training data as a pandas dataframe\n",
    "dataset = pd.read_csv(sentiment140_file, encoding='latin-1', names=columns)"
   ]
  },
  {
   "cell_type": "code",
   "execution_count": 5,
   "id": "790d957d",
   "metadata": {},
   "outputs": [
    {
     "data": {
      "text/html": [
       "<div>\n",
       "<style scoped>\n",
       "    .dataframe tbody tr th:only-of-type {\n",
       "        vertical-align: middle;\n",
       "    }\n",
       "\n",
       "    .dataframe tbody tr th {\n",
       "        vertical-align: top;\n",
       "    }\n",
       "\n",
       "    .dataframe thead th {\n",
       "        text-align: right;\n",
       "    }\n",
       "</style>\n",
       "<table border=\"1\" class=\"dataframe\">\n",
       "  <thead>\n",
       "    <tr style=\"text-align: right;\">\n",
       "      <th></th>\n",
       "      <th>sentiment</th>\n",
       "      <th>id</th>\n",
       "      <th>date</th>\n",
       "      <th>query</th>\n",
       "      <th>user</th>\n",
       "      <th>text</th>\n",
       "    </tr>\n",
       "  </thead>\n",
       "  <tbody>\n",
       "    <tr>\n",
       "      <th>0</th>\n",
       "      <td>0</td>\n",
       "      <td>1467810369</td>\n",
       "      <td>Mon Apr 06 22:19:45 PDT 2009</td>\n",
       "      <td>NO_QUERY</td>\n",
       "      <td>_TheSpecialOne_</td>\n",
       "      <td>@switchfoot http://twitpic.com/2y1zl - Awww, t...</td>\n",
       "    </tr>\n",
       "    <tr>\n",
       "      <th>1</th>\n",
       "      <td>0</td>\n",
       "      <td>1467810672</td>\n",
       "      <td>Mon Apr 06 22:19:49 PDT 2009</td>\n",
       "      <td>NO_QUERY</td>\n",
       "      <td>scotthamilton</td>\n",
       "      <td>is upset that he can't update his Facebook by ...</td>\n",
       "    </tr>\n",
       "    <tr>\n",
       "      <th>2</th>\n",
       "      <td>0</td>\n",
       "      <td>1467810917</td>\n",
       "      <td>Mon Apr 06 22:19:53 PDT 2009</td>\n",
       "      <td>NO_QUERY</td>\n",
       "      <td>mattycus</td>\n",
       "      <td>@Kenichan I dived many times for the ball. Man...</td>\n",
       "    </tr>\n",
       "    <tr>\n",
       "      <th>3</th>\n",
       "      <td>0</td>\n",
       "      <td>1467811184</td>\n",
       "      <td>Mon Apr 06 22:19:57 PDT 2009</td>\n",
       "      <td>NO_QUERY</td>\n",
       "      <td>ElleCTF</td>\n",
       "      <td>my whole body feels itchy and like its on fire</td>\n",
       "    </tr>\n",
       "    <tr>\n",
       "      <th>4</th>\n",
       "      <td>0</td>\n",
       "      <td>1467811193</td>\n",
       "      <td>Mon Apr 06 22:19:57 PDT 2009</td>\n",
       "      <td>NO_QUERY</td>\n",
       "      <td>Karoli</td>\n",
       "      <td>@nationwideclass no, it's not behaving at all....</td>\n",
       "    </tr>\n",
       "  </tbody>\n",
       "</table>\n",
       "</div>"
      ],
      "text/plain": [
       "   sentiment          id                          date     query  \\\n",
       "0          0  1467810369  Mon Apr 06 22:19:45 PDT 2009  NO_QUERY   \n",
       "1          0  1467810672  Mon Apr 06 22:19:49 PDT 2009  NO_QUERY   \n",
       "2          0  1467810917  Mon Apr 06 22:19:53 PDT 2009  NO_QUERY   \n",
       "3          0  1467811184  Mon Apr 06 22:19:57 PDT 2009  NO_QUERY   \n",
       "4          0  1467811193  Mon Apr 06 22:19:57 PDT 2009  NO_QUERY   \n",
       "\n",
       "              user                                               text  \n",
       "0  _TheSpecialOne_  @switchfoot http://twitpic.com/2y1zl - Awww, t...  \n",
       "1    scotthamilton  is upset that he can't update his Facebook by ...  \n",
       "2         mattycus  @Kenichan I dived many times for the ball. Man...  \n",
       "3          ElleCTF    my whole body feels itchy and like its on fire   \n",
       "4           Karoli  @nationwideclass no, it's not behaving at all....  "
      ]
     },
     "execution_count": 5,
     "metadata": {},
     "output_type": "execute_result"
    }
   ],
   "source": [
    "dataset.head()"
   ]
  },
  {
   "cell_type": "markdown",
   "id": "0caa2190",
   "metadata": {},
   "source": [
    "Although the kaggle dataset includes neutral (2 = neutral) as a class, there are not examples of neutral sentiment in the training set. We find 800000 tweets with a negative polarity (0 = negative) and 800000 tweets with positive polarity (4 = positive), which means the dataset is balanced."
   ]
  },
  {
   "cell_type": "code",
   "execution_count": 6,
   "id": "a84239a3",
   "metadata": {},
   "outputs": [
    {
     "data": {
      "text/plain": [
       "0    800000\n",
       "4    800000\n",
       "Name: sentiment, dtype: int64"
      ]
     },
     "execution_count": 6,
     "metadata": {},
     "output_type": "execute_result"
    }
   ],
   "source": [
    "dataset[\"sentiment\"].value_counts()"
   ]
  },
  {
   "cell_type": "markdown",
   "id": "d482f84d",
   "metadata": {},
   "source": [
    "Not all columns are relevant to the task we're dealing with in this project so we need to remove/drop some of them: id, date, query and user."
   ]
  },
  {
   "cell_type": "code",
   "execution_count": 7,
   "id": "4d6f3f8e",
   "metadata": {},
   "outputs": [],
   "source": [
    "dataset = dataset.drop(columns=['id','date','query','user'])"
   ]
  },
  {
   "cell_type": "code",
   "execution_count": 8,
   "id": "fd497192",
   "metadata": {},
   "outputs": [
    {
     "data": {
      "text/plain": [
       "(1600000, 2)"
      ]
     },
     "execution_count": 8,
     "metadata": {},
     "output_type": "execute_result"
    }
   ],
   "source": [
    "dataset.shape"
   ]
  },
  {
   "cell_type": "code",
   "execution_count": 9,
   "id": "6ca64aae",
   "metadata": {},
   "outputs": [
    {
     "data": {
      "text/html": [
       "<div>\n",
       "<style scoped>\n",
       "    .dataframe tbody tr th:only-of-type {\n",
       "        vertical-align: middle;\n",
       "    }\n",
       "\n",
       "    .dataframe tbody tr th {\n",
       "        vertical-align: top;\n",
       "    }\n",
       "\n",
       "    .dataframe thead th {\n",
       "        text-align: right;\n",
       "    }\n",
       "</style>\n",
       "<table border=\"1\" class=\"dataframe\">\n",
       "  <thead>\n",
       "    <tr style=\"text-align: right;\">\n",
       "      <th></th>\n",
       "      <th>sentiment</th>\n",
       "      <th>text</th>\n",
       "    </tr>\n",
       "  </thead>\n",
       "  <tbody>\n",
       "    <tr>\n",
       "      <th>0</th>\n",
       "      <td>0</td>\n",
       "      <td>@switchfoot http://twitpic.com/2y1zl - Awww, t...</td>\n",
       "    </tr>\n",
       "    <tr>\n",
       "      <th>1</th>\n",
       "      <td>0</td>\n",
       "      <td>is upset that he can't update his Facebook by ...</td>\n",
       "    </tr>\n",
       "    <tr>\n",
       "      <th>2</th>\n",
       "      <td>0</td>\n",
       "      <td>@Kenichan I dived many times for the ball. Man...</td>\n",
       "    </tr>\n",
       "    <tr>\n",
       "      <th>3</th>\n",
       "      <td>0</td>\n",
       "      <td>my whole body feels itchy and like its on fire</td>\n",
       "    </tr>\n",
       "    <tr>\n",
       "      <th>4</th>\n",
       "      <td>0</td>\n",
       "      <td>@nationwideclass no, it's not behaving at all....</td>\n",
       "    </tr>\n",
       "    <tr>\n",
       "      <th>...</th>\n",
       "      <td>...</td>\n",
       "      <td>...</td>\n",
       "    </tr>\n",
       "    <tr>\n",
       "      <th>1599995</th>\n",
       "      <td>4</td>\n",
       "      <td>Just woke up. Having no school is the best fee...</td>\n",
       "    </tr>\n",
       "    <tr>\n",
       "      <th>1599996</th>\n",
       "      <td>4</td>\n",
       "      <td>TheWDB.com - Very cool to hear old Walt interv...</td>\n",
       "    </tr>\n",
       "    <tr>\n",
       "      <th>1599997</th>\n",
       "      <td>4</td>\n",
       "      <td>Are you ready for your MoJo Makeover? Ask me f...</td>\n",
       "    </tr>\n",
       "    <tr>\n",
       "      <th>1599998</th>\n",
       "      <td>4</td>\n",
       "      <td>Happy 38th Birthday to my boo of alll time!!! ...</td>\n",
       "    </tr>\n",
       "    <tr>\n",
       "      <th>1599999</th>\n",
       "      <td>4</td>\n",
       "      <td>happy #charitytuesday @theNSPCC @SparksCharity...</td>\n",
       "    </tr>\n",
       "  </tbody>\n",
       "</table>\n",
       "<p>1600000 rows × 2 columns</p>\n",
       "</div>"
      ],
      "text/plain": [
       "         sentiment                                               text\n",
       "0                0  @switchfoot http://twitpic.com/2y1zl - Awww, t...\n",
       "1                0  is upset that he can't update his Facebook by ...\n",
       "2                0  @Kenichan I dived many times for the ball. Man...\n",
       "3                0    my whole body feels itchy and like its on fire \n",
       "4                0  @nationwideclass no, it's not behaving at all....\n",
       "...            ...                                                ...\n",
       "1599995          4  Just woke up. Having no school is the best fee...\n",
       "1599996          4  TheWDB.com - Very cool to hear old Walt interv...\n",
       "1599997          4  Are you ready for your MoJo Makeover? Ask me f...\n",
       "1599998          4  Happy 38th Birthday to my boo of alll time!!! ...\n",
       "1599999          4  happy #charitytuesday @theNSPCC @SparksCharity...\n",
       "\n",
       "[1600000 rows x 2 columns]"
      ]
     },
     "execution_count": 9,
     "metadata": {},
     "output_type": "execute_result"
    }
   ],
   "source": [
    "dataset"
   ]
  },
  {
   "cell_type": "code",
   "execution_count": 15,
   "id": "7716cf8b",
   "metadata": {},
   "outputs": [],
   "source": [
    "#dataset['pre_clean_len'] = [len(t) for t in dataset.text]"
   ]
  },
  {
   "cell_type": "code",
   "execution_count": 18,
   "id": "036c98fd",
   "metadata": {},
   "outputs": [
    {
     "data": {
      "text/html": [
       "<div>\n",
       "<style scoped>\n",
       "    .dataframe tbody tr th:only-of-type {\n",
       "        vertical-align: middle;\n",
       "    }\n",
       "\n",
       "    .dataframe tbody tr th {\n",
       "        vertical-align: top;\n",
       "    }\n",
       "\n",
       "    .dataframe thead th {\n",
       "        text-align: right;\n",
       "    }\n",
       "</style>\n",
       "<table border=\"1\" class=\"dataframe\">\n",
       "  <thead>\n",
       "    <tr style=\"text-align: right;\">\n",
       "      <th></th>\n",
       "      <th>sentiment</th>\n",
       "      <th>text</th>\n",
       "      <th>pre_clean_len</th>\n",
       "    </tr>\n",
       "  </thead>\n",
       "  <tbody>\n",
       "    <tr>\n",
       "      <th>213</th>\n",
       "      <td>0</td>\n",
       "      <td>Awwh babs... you look so sad underneith that s...</td>\n",
       "      <td>142</td>\n",
       "    </tr>\n",
       "    <tr>\n",
       "      <th>226</th>\n",
       "      <td>0</td>\n",
       "      <td>Tuesdayï¿½ll start with reflection ï¿½n then a...</td>\n",
       "      <td>141</td>\n",
       "    </tr>\n",
       "    <tr>\n",
       "      <th>279</th>\n",
       "      <td>0</td>\n",
       "      <td>Whinging. My client&amp;amp;boss don't understand ...</td>\n",
       "      <td>145</td>\n",
       "    </tr>\n",
       "    <tr>\n",
       "      <th>343</th>\n",
       "      <td>0</td>\n",
       "      <td>@TheLeagueSF Not Fun &amp;amp; Furious? The new ma...</td>\n",
       "      <td>145</td>\n",
       "    </tr>\n",
       "    <tr>\n",
       "      <th>400</th>\n",
       "      <td>0</td>\n",
       "      <td>#3 woke up and was having an accident - &amp;quot;...</td>\n",
       "      <td>144</td>\n",
       "    </tr>\n",
       "    <tr>\n",
       "      <th>464</th>\n",
       "      <td>0</td>\n",
       "      <td>My bathtub drain is fired: it haz 1 job 2 do, ...</td>\n",
       "      <td>146</td>\n",
       "    </tr>\n",
       "    <tr>\n",
       "      <th>492</th>\n",
       "      <td>0</td>\n",
       "      <td>pears &amp;amp; Brie, bottle of Cabernet, and &amp;quo...</td>\n",
       "      <td>150</td>\n",
       "    </tr>\n",
       "    <tr>\n",
       "      <th>747</th>\n",
       "      <td>0</td>\n",
       "      <td>Have an invite for &amp;quot;Healthy Dining&amp;quot; ...</td>\n",
       "      <td>141</td>\n",
       "    </tr>\n",
       "    <tr>\n",
       "      <th>957</th>\n",
       "      <td>0</td>\n",
       "      <td>Damnit I was really digging this season of Rea...</td>\n",
       "      <td>141</td>\n",
       "    </tr>\n",
       "    <tr>\n",
       "      <th>1064</th>\n",
       "      <td>0</td>\n",
       "      <td>Why do I keep looking...I know that what I rea...</td>\n",
       "      <td>141</td>\n",
       "    </tr>\n",
       "  </tbody>\n",
       "</table>\n",
       "</div>"
      ],
      "text/plain": [
       "      sentiment                                               text  \\\n",
       "213           0  Awwh babs... you look so sad underneith that s...   \n",
       "226           0  Tuesdayï¿½ll start with reflection ï¿½n then a...   \n",
       "279           0  Whinging. My client&amp;boss don't understand ...   \n",
       "343           0  @TheLeagueSF Not Fun &amp; Furious? The new ma...   \n",
       "400           0  #3 woke up and was having an accident - &quot;...   \n",
       "464           0  My bathtub drain is fired: it haz 1 job 2 do, ...   \n",
       "492           0  pears &amp; Brie, bottle of Cabernet, and &quo...   \n",
       "747           0  Have an invite for &quot;Healthy Dining&quot; ...   \n",
       "957           0  Damnit I was really digging this season of Rea...   \n",
       "1064          0  Why do I keep looking...I know that what I rea...   \n",
       "\n",
       "      pre_clean_len  \n",
       "213             142  \n",
       "226             141  \n",
       "279             145  \n",
       "343             145  \n",
       "400             144  \n",
       "464             146  \n",
       "492             150  \n",
       "747             141  \n",
       "957             141  \n",
       "1064            141  "
      ]
     },
     "execution_count": 18,
     "metadata": {},
     "output_type": "execute_result"
    }
   ],
   "source": [
    "#dataset[dataset.pre_clean_len > 140].head(10)"
   ]
  },
  {
   "cell_type": "code",
   "execution_count": 10,
   "id": "33786862",
   "metadata": {},
   "outputs": [],
   "source": [
    "#dataset['&quot' in dataset.text].head(10)"
   ]
  },
  {
   "cell_type": "markdown",
   "id": "a27b7c10",
   "metadata": {},
   "source": [
    "\n",
    "Data Preparation 1: HTML decoding\n",
    "\n",
    "HTML encoding has not been converted to text, and ended up in text field as ‘&amp’,’&quot’,etc. "
   ]
  },
  {
   "cell_type": "markdown",
   "id": "8d2ac97e",
   "metadata": {},
   "source": [
    "Esto de decoding HTML lo metería en el pipeline para preparar los datos"
   ]
  },
  {
   "cell_type": "code",
   "execution_count": 10,
   "id": "8e89a55a",
   "metadata": {},
   "outputs": [
    {
     "name": "stdout",
     "output_type": "stream",
     "text": [
      "34141\n",
      "42927\n",
      "42927\n"
     ]
    }
   ],
   "source": [
    "quot = []\n",
    "amp = []\n",
    "todo = []\n",
    "for item in dataset.text:\n",
    "    if '&quot;' in item:\n",
    "        quot.append(item)\n",
    "    if '&amp;' in item:\n",
    "        amp.append(item)\n",
    "    if '&quot;' and '&amp;' in item:\n",
    "        todo.append(item)\n",
    "        \n",
    "        \n",
    "print(len(quot))\n",
    "print(len(amp))\n",
    "print(len(todo))"
   ]
  },
  {
   "cell_type": "code",
   "execution_count": 11,
   "id": "e2c4fb8b",
   "metadata": {},
   "outputs": [],
   "source": [
    "import lxml.html\n",
    "\n",
    "def decode_html(html_string):\n",
    "    # Use the lxml.html module's HTML parser to parse the HTML\n",
    "    parsed_html = lxml.html.fromstring(html_string)\n",
    "\n",
    "    # Use the text_content() method to extract the text from the parsed HTML\n",
    "    return parsed_html.text_content()\n"
   ]
  },
  {
   "cell_type": "code",
   "execution_count": 12,
   "id": "88ff71b5",
   "metadata": {},
   "outputs": [
    {
     "name": "stdout",
     "output_type": "stream",
     "text": [
      "pears & Brie, bottle of Cabernet, and \"Win a Date With Tad Hamilton\"... oh gawwd my life flashed forward to when I'm 40 with my 75 cats \n"
     ]
    }
   ],
   "source": [
    "html_string = dataset['text'][492]\n",
    "decoded_text = decode_html(html_string)\n",
    "\n",
    "print(decoded_text)\n"
   ]
  },
  {
   "cell_type": "code",
   "execution_count": 13,
   "id": "d50f359c",
   "metadata": {},
   "outputs": [
    {
     "data": {
      "text/plain": [
       "'Have an invite for &quot;Healthy Dining&quot; session at Ashok Hotel today with Exec Chef R.Chopra but damn workload - will have to skip it! '"
      ]
     },
     "execution_count": 13,
     "metadata": {},
     "output_type": "execute_result"
    }
   ],
   "source": [
    "dataset['text'][747]"
   ]
  },
  {
   "cell_type": "code",
   "execution_count": 14,
   "id": "8e863be6",
   "metadata": {},
   "outputs": [
    {
     "data": {
      "text/plain": [
       "'@TheLeagueSF Not Fun &amp; Furious? The new mantra for the Bay 2 Breakers? It was getting 2 rambunctious;the city overreacted &amp; clamped down '"
      ]
     },
     "execution_count": 14,
     "metadata": {},
     "output_type": "execute_result"
    }
   ],
   "source": [
    "dataset['text'][343]"
   ]
  },
  {
   "cell_type": "code",
   "execution_count": 15,
   "id": "497e289f",
   "metadata": {},
   "outputs": [
    {
     "data": {
      "text/plain": [
       "\"pears &amp; Brie, bottle of Cabernet, and &quot;Win a Date With Tad Hamilton&quot;... oh gawwd my life flashed forward to when I'm 40 with my 75 cats \""
      ]
     },
     "execution_count": 15,
     "metadata": {},
     "output_type": "execute_result"
    }
   ],
   "source": [
    "dataset['text'][492]"
   ]
  },
  {
   "cell_type": "markdown",
   "id": "1912819c",
   "metadata": {},
   "source": [
    "Certainly! Here is a simple Python function that can be used to remove Twitter handles (the text following an '@' symbol) from a tweet:"
   ]
  },
  {
   "cell_type": "markdown",
   "id": "08393b98",
   "metadata": {},
   "source": [
    "REMOVING MENTIONS/USER NAMES AND URLs BC THEY DON'T ADD ANY VALUE TO OUR SENTIMENT ANALYSIS MODEL.\n",
    "NOT POSITIVE OR NEGATIVE.\n",
    "\n",
    "\"this information doesn’t add value to build sentiment analysis model.\""
   ]
  },
  {
   "cell_type": "code",
   "execution_count": 16,
   "id": "13cc243e",
   "metadata": {},
   "outputs": [],
   "source": [
    "import re\n",
    "\n",
    "def remove_handles(tweet):\n",
    "    # Use a regular expression to find Twitter handles in the tweet\n",
    "    pattern = r'@\\w+'\n",
    "    return re.sub(pattern, '', tweet)"
   ]
  },
  {
   "cell_type": "code",
   "execution_count": 17,
   "id": "270ddac0",
   "metadata": {},
   "outputs": [
    {
     "name": "stdout",
     "output_type": "stream",
     "text": [
      " Not Fun &amp; Furious? The new mantra for the Bay 2 Breakers? It was getting 2 rambunctious;the city overreacted &amp; clamped down \n"
     ]
    }
   ],
   "source": [
    "tweet = dataset['text'][343]\n",
    "modified_tweet = remove_handles(tweet)\n",
    "\n",
    "print(modified_tweet)  # prints \"Hello! How are you doing today?\""
   ]
  },
  {
   "cell_type": "markdown",
   "id": "214606b7",
   "metadata": {},
   "source": [
    "ESTA FUNCIÓN ELIMINA TANTO LAS MENCIONES COMO LAS URLs"
   ]
  },
  {
   "cell_type": "code",
   "execution_count": 18,
   "id": "ed524ba6",
   "metadata": {},
   "outputs": [],
   "source": [
    "def remove_urls_and_mentions(tweet):\n",
    "    # # Use a regular expression to match URLs starting with 'http' or 'www'\n",
    "    tweet = re.sub(r\"(?:http|www)\\S+\", \"\", tweet)\n",
    "    \n",
    "    # Remove mentions\n",
    "    tweet = re.sub(r\"@\\S+\", \"\", tweet)\n",
    "    \n",
    "    return tweet"
   ]
  },
  {
   "cell_type": "code",
   "execution_count": 19,
   "id": "c6401c82",
   "metadata": {},
   "outputs": [
    {
     "name": "stdout",
     "output_type": "stream",
     "text": [
      "Check out this cool article I found:  you can also find it here:  #fun #article \n"
     ]
    }
   ],
   "source": [
    "tweet = \"Check out this cool article I found: http://example.com you can also find it here: www.example.com #fun #article @friend\"\n",
    "cleaned_tweet = remove_urls_and_mentions(tweet)\n",
    "print(cleaned_tweet)"
   ]
  },
  {
   "cell_type": "code",
   "execution_count": 20,
   "id": "37c32728",
   "metadata": {},
   "outputs": [
    {
     "data": {
      "text/plain": [
       "'Tuesdayï¿½ll start with reflection ï¿½n then a lecture in Stress reducing techniques. That sure might become very useful for us accompaniers '"
      ]
     },
     "execution_count": 20,
     "metadata": {},
     "output_type": "execute_result"
    }
   ],
   "source": [
    "dataset.text[226]"
   ]
  },
  {
   "cell_type": "markdown",
   "id": "69c5d186",
   "metadata": {},
   "source": [
    "LA PARTE DE DECODING NO HAY MANERA DE SACARLA!!! - SE QUEDA PENDIENTE POR SI PUEDO HACERLO MÁS ADELANTE O SI NO LO METO EN LA SECCIÓN DE COSAS QUE PUEDEN MEJORAR EN EL FUTURO."
   ]
  },
  {
   "cell_type": "code",
   "execution_count": 21,
   "id": "58e9723b",
   "metadata": {},
   "outputs": [],
   "source": [
    "def decoding(tweet):\n",
    "    tweet.replace('ï¿½', \"????\")\n",
    "    return tweet"
   ]
  },
  {
   "cell_type": "code",
   "execution_count": 22,
   "id": "bc0c431b",
   "metadata": {},
   "outputs": [
    {
     "name": "stdout",
     "output_type": "stream",
     "text": [
      "Tuesdayï¿½ll start with reflection ï¿½n then a lecture in Stress reducing techniques. That sure might become very useful for us accompaniers \n"
     ]
    }
   ],
   "source": [
    "tweet = dataset.text[226]\n",
    "decoded_tweet = decoding(tweet)\n",
    "print(decoded_tweet)"
   ]
  },
  {
   "cell_type": "code",
   "execution_count": 23,
   "id": "b709c37d",
   "metadata": {},
   "outputs": [
    {
     "name": "stdout",
     "output_type": "stream",
     "text": [
      "4051\n",
      "[\"@JonathanRKnight I hate the limited letters,too.Hope you and the guys are fine?I pray for my dog,she's not well \", \"Tuesday'll start with reflection 'n then a lecture in Stress reducing techniques. That sure might become very useful for us accompaniers \", \"@DonnieWahlberg ooh I'm excited and not even going 2 be there  long love YOUTUBE!\", \"Time to move my posterior  and lose some fat. My articulation are creaking so no more running  but I'm drool for some swimming\", \"@Sofii_Noel that's bad \", \"Tumblr: This is exactly how it feels wearing a 'tie'  http://tinyurl.com/c8bvqh\", \"@simX Yeah. I always slow down at the end  ''also, take that! I win.\", \"Still in bed and don't want to do anything else. University is callung too loud \", \"Chi?u nay h?p chu?n b? t? ch?c m?y s? ki?n ? tr??ng ! Bao nhi'u vi?c \", \"was super lucky to get a seat on the train. We pay '40 for this 25 min journey. \", \"I NEVER THOUGHT THAT I COULD  HATE SOMBODY, BUT I REALLY HATE YOU 'TOBE D....', I ONLY GAVE YOU ALL OF MY LOVE AND YOU  PAY ME SO BAD! \"]\n"
     ]
    }
   ],
   "source": [
    "#ESTO PARECE FUNCIONAR!\n",
    "raro = []\n",
    "for item in dataset.text:\n",
    "    if 'ï¿½' in item:\n",
    "        twt = item.replace('ï¿½', \"'\")\n",
    "        raro.append(twt)\n",
    "        #raro.append(item)\n",
    "        \n",
    "print(len(raro))\n",
    "print(raro[:11])\n"
   ]
  },
  {
   "cell_type": "code",
   "execution_count": null,
   "id": "baec430f",
   "metadata": {},
   "outputs": [],
   "source": []
  },
  {
   "cell_type": "code",
   "execution_count": null,
   "id": "6ae64f48",
   "metadata": {},
   "outputs": [],
   "source": []
  },
  {
   "cell_type": "code",
   "execution_count": null,
   "id": "86d9ba1c",
   "metadata": {},
   "outputs": [],
   "source": [
    "#Remove doble spacing and space as a last character in the string as in dataset['text'][249]"
   ]
  },
  {
   "cell_type": "code",
   "execution_count": 24,
   "id": "eaa9a379",
   "metadata": {},
   "outputs": [],
   "source": [
    "def remove_double_spaces_and_trailing_whitespace(string):\n",
    "  # Replace all double spaces with single spaces\n",
    "    string = string.replace(\"  \", \" \")\n",
    "  \n",
    "  # Remove any trailing whitespace\n",
    "    string = string.rstrip()\n",
    "    return string"
   ]
  },
  {
   "cell_type": "code",
   "execution_count": 25,
   "id": "90246883",
   "metadata": {},
   "outputs": [
    {
     "data": {
      "text/plain": [
       "\"Whinging. My client&amp;boss don't understand English well. Rewrote some text unreadable. It's written by v. good writer&amp;reviewed correctly. \""
      ]
     },
     "execution_count": 25,
     "metadata": {},
     "output_type": "execute_result"
    }
   ],
   "source": [
    "dataset['text'][279]"
   ]
  },
  {
   "cell_type": "code",
   "execution_count": 26,
   "id": "34a30e91",
   "metadata": {},
   "outputs": [
    {
     "name": "stdout",
     "output_type": "stream",
     "text": [
      "Whinging. My client&amp;boss don't understand English well. Rewrote some text unreadable. It's written by v. good writer&amp;reviewed correctly.\n"
     ]
    }
   ],
   "source": [
    "new_string = remove_double_spaces_and_trailing_whitespace(dataset['text'][279])\n",
    "print(new_string)"
   ]
  },
  {
   "cell_type": "markdown",
   "id": "3fd81561",
   "metadata": {},
   "source": [
    "ANTES DE QUITAR LA PUNTUACIÓN, NECESITO ARREGLAR EL TEMA DE LAS CONTRACCIONES (I'll, she'll, etc) PORQUE SI LUEGO ELIMINO LA PUNTUACIÓN (') NO PUEDO ARREGLARLO. PARA ELLO NECESITO UNA FUNCIÓN QUE:\n",
    "\n",
    "uses a regular expression to find all instances of a character followed by \"'ll\" in a given string of text, and replaces them with the character followed by \"will\".\n"
   ]
  },
  {
   "cell_type": "code",
   "execution_count": 27,
   "id": "794052ee",
   "metadata": {},
   "outputs": [],
   "source": [
    "#This function uses a regular expression to match any word that ends in \"'ll\" \n",
    "#(e.g., \"I'll\", \"you'll\", \"he'll\"), and replaces it with the same word followed \n",
    "#by \" will\". The regular expression uses a capture group (i.e., the parentheses) \n",
    "#to capture the character before \"'ll\", and then uses the \\1 backreference to refer \n",
    "#to this captured character in the replacement string.\n",
    "\n",
    "def find_and_replace_coincidence(text):\n",
    "    pattern = r'(\\b\\w+)\\'ll\\b'\n",
    "    return re.sub(pattern, r'\\1 will', text)\n",
    "\n",
    "#Keep in mind that this function is case-sensitive, \n",
    "#so it will only match and replace words with an uppercase or lowercase \"I\" or \"s\"."
   ]
  },
  {
   "cell_type": "code",
   "execution_count": 28,
   "id": "10cf8cea",
   "metadata": {},
   "outputs": [
    {
     "name": "stdout",
     "output_type": "stream",
     "text": [
      "I will see you at the movie theater. She will be there too. I'm sure you will have a great time.\n"
     ]
    }
   ],
   "source": [
    "text = \"I'll see you at the movie theater. She'll be there too. I'm sure you'll have a great time.\"\n",
    "replaced_text = find_and_replace_coincidence(text)\n",
    "print(replaced_text)"
   ]
  },
  {
   "cell_type": "markdown",
   "id": "5e7220ac",
   "metadata": {},
   "source": [
    "VOY A INTENTAR HACER LO MISMO PERO CON CASOS COMO LA NEGACIÓN: shouldn't -- should not, etc\n",
    "\n",
    "HAY CASOS ESPECIALES COMO won't (will not) o CAN'T (cannot)"
   ]
  },
  {
   "cell_type": "markdown",
   "id": "9a4e7c20",
   "metadata": {},
   "source": [
    "This function uses three regular expressions to find and replace different contractions in the input text. The first regular expression is used to match the \"won't\" contraction specifically, and replaces it with \"will not\". The second and third regular expressions are used to match the \"can't\" and other instances of a character followed by \"n't\" contractions, and replace them with \"cannot\" and the character followed by \" not\", respectively."
   ]
  },
  {
   "cell_type": "code",
   "execution_count": 29,
   "id": "f96ad036",
   "metadata": {},
   "outputs": [],
   "source": [
    "def find_and_replace_negation(text):\n",
    "    pattern = r'(\\bw)on\\'t\\b'\n",
    "    text = re.sub(pattern, r'\\1ill not', text)\n",
    "    pattern = r'(\\bcan)\\'t\\b'\n",
    "    text = re.sub(pattern, r'\\1not', text)\n",
    "    pattern = r'(\\b\\w+)n\\'t\\b'\n",
    "    return re.sub(pattern, r'\\1 not', text)"
   ]
  },
  {
   "cell_type": "code",
   "execution_count": 30,
   "id": "90089d1b",
   "metadata": {},
   "outputs": [
    {
     "name": "stdout",
     "output_type": "stream",
     "text": [
      "I should not have eaten that last slice of pizza. You will not believe how full I am now. I cannot even breathe. I did not eat pizza since I have not got my money.\n"
     ]
    }
   ],
   "source": [
    "text = \"I shouldn't have eaten that last slice of pizza. You won't believe how full I am now. I can't even breathe. I didn't eat pizza since I haven't got my money.\"\n",
    "replaced_text = find_and_replace_negation(text)\n",
    "print(replaced_text)"
   ]
  },
  {
   "cell_type": "code",
   "execution_count": null,
   "id": "a58ee1e0",
   "metadata": {},
   "outputs": [],
   "source": []
  },
  {
   "cell_type": "code",
   "execution_count": 31,
   "id": "3f722509",
   "metadata": {},
   "outputs": [],
   "source": [
    "#Remove some punctuations such as # (the reason why why we don't remove the text in hashtags (e.g., #hello)\n",
    "#is bc they might add useful information regarding the sentiment of the tweet (#good #bad #happy #awful)"
   ]
  },
  {
   "cell_type": "markdown",
   "id": "d9b8b025",
   "metadata": {},
   "source": [
    "It can be beneficial to remove punctuation when performing sentiment analysis, as punctuation may not always carry a lot of meaning in determining the sentiment of a piece of text. For example, an exclamation point (!) may indicate strong emotion, but it is not necessary for understanding the overall sentiment of a text.\n",
    "\n",
    "On the other hand, punctuation can also convey important information and context, and removing it may result in the loss of some important features of the text. For example, a question mark (?) may indicate that the speaker is unsure or seeking clarification, which could affect the sentiment of the text.\n",
    "\n",
    "It may be helpful to try both approaches and see which one performs better on our dataset, and then make a decision based on the results."
   ]
  },
  {
   "cell_type": "code",
   "execution_count": 32,
   "id": "8902a9fa",
   "metadata": {},
   "outputs": [],
   "source": [
    "#This function uses a regular expression to match any character that is not a word \n",
    "#character (i.e., a letter, digit, or underscore) or a whitespace character, and replaces it \n",
    "#with an empty string. This will remove all punctuation, as well as any other non-alphabetic \n",
    "#characters such as emoji or non-Latin scripts.\n",
    "\n",
    "def remove_punctuation(text):\n",
    "    text = re.sub(r'[^\\w\\s]', '', text)\n",
    "    return text"
   ]
  },
  {
   "cell_type": "code",
   "execution_count": 33,
   "id": "24cb191e",
   "metadata": {},
   "outputs": [
    {
     "name": "stdout",
     "output_type": "stream",
     "text": [
      "The movie was really good I cant wait to see it again Ill go to the cinema next week \n"
     ]
    }
   ],
   "source": [
    "texto = \"The movie was really #good! I can't wait to see it again!!! I'll go to the cinema next week :)\"\n",
    "no_punc = remove_punctuation(texto)\n",
    "print(no_punc)"
   ]
  },
  {
   "cell_type": "code",
   "execution_count": null,
   "id": "9f76313b",
   "metadata": {},
   "outputs": [],
   "source": []
  },
  {
   "cell_type": "code",
   "execution_count": null,
   "id": "9591b7ff",
   "metadata": {},
   "outputs": [],
   "source": []
  },
  {
   "cell_type": "code",
   "execution_count": null,
   "id": "0424630e",
   "metadata": {},
   "outputs": [],
   "source": []
  },
  {
   "cell_type": "markdown",
   "id": "52167fde",
   "metadata": {},
   "source": [
    "REMOVING NUMBERS:\n",
    "\n",
    "It is generally a good idea to remove numbers when performing sentiment analysis since numbers typically do not carry much sentiment on their own, and they can often distract the model from learning the more important sentiment-bearing words and phrases in the text.\n",
    "\n",
    "Other preprocessing steps, such as lowercasing the text, removing punctuation, and stemming or lemmatizing words. These steps can help to improve the model's performance and make it easier for the LSTM to learn the underlying patterns in the data."
   ]
  },
  {
   "cell_type": "code",
   "execution_count": 34,
   "id": "57fc1bc8",
   "metadata": {},
   "outputs": [
    {
     "name": "stdout",
     "output_type": "stream",
     "text": [
      "711185\n"
     ]
    }
   ],
   "source": [
    "num = []\n",
    "numeros = ['1', '2', '3', '4', '5', '6', '7', '8', '9', '0']\n",
    "for item in dataset.text:\n",
    "    for n in numeros:\n",
    "        if n in item:\n",
    "            num.append(item)       \n",
    "        \n",
    "print(len(num))\n",
    "#print(num[:11])"
   ]
  },
  {
   "cell_type": "code",
   "execution_count": null,
   "id": "de04f1d1",
   "metadata": {},
   "outputs": [],
   "source": []
  },
  {
   "cell_type": "code",
   "execution_count": null,
   "id": "8317bd23",
   "metadata": {},
   "outputs": [],
   "source": []
  },
  {
   "cell_type": "code",
   "execution_count": null,
   "id": "ab0b34ba",
   "metadata": {},
   "outputs": [],
   "source": []
  },
  {
   "cell_type": "markdown",
   "id": "9330fd6e",
   "metadata": {},
   "source": [
    "INTENTO DE HACER UNA FUNCIÓN QUE HAGA TODO LO DE ARRIBA"
   ]
  },
  {
   "cell_type": "code",
   "execution_count": 200,
   "id": "09400349",
   "metadata": {},
   "outputs": [],
   "source": [
    "import re\n",
    "\n",
    "def data_preprocessing(text):\n",
    "    \n",
    "    # Using the lxml.html module's HTML parser to parse the HTML\n",
    "    parsed_html = lxml.html.fromstring(text)\n",
    "    # Using the text_content() method to extract the text from the parsed HTML\n",
    "    tweet = parsed_html.text_content()\n",
    "    \n",
    "    # Replacing weird characters (probably because of the latin-1 encoding) -- sheï¿½s = she's\n",
    "    tweet = tweet.replace('ï¿½', \"'\")\n",
    "    \n",
    "    # Use the sub function to replace all email addresses with an empty string\n",
    "    tweet = re.sub(r'[a-zA-Z0-9_.+-]+@[a-zA-Z0-9-]+\\.[a-zA-Z0-9-.]+', '', tweet)\n",
    "    \n",
    "\n",
    "    # Using a regular expression to match URLs starting with 'http' or 'www'\n",
    "    tweet = re.sub(r\"(?:http|www)\\S+\", \"\", tweet)\n",
    "\n",
    "    # Removing mentions / usernames\n",
    "    tweet = re.sub(r\"@\\S+\", \"\", tweet)\n",
    "    \n",
    "    #This code uses the re.sub() function and a lambda function \n",
    "    #to replace all instances of commas, periods, interrogation marks, \n",
    "    #and exclamation marks in the text string with \", \", \". \", \"? \", and \"! \" respectively.\n",
    "    tweet = re.sub(r'[,\\.\\?!]', lambda x: x.group() + ' ', tweet)\n",
    "    \n",
    "    # Replacing I'm / i'm with I am\n",
    "    tweet = re.sub(r'(I|i)\\'m', r'\\1 am', tweet)\n",
    "    \n",
    "    # Replacing won't with will not (EXPLANATION BELOW)\n",
    "    tweet = re.sub(r'(W|w)on\\'t', r'\\g<1>ill not', tweet)\n",
    "    \n",
    "    # Replacing Can't / can't with cannot\n",
    "    tweet = re.sub(r'(can|Can)\\'t', r'\\1not', tweet)\n",
    "    \n",
    "    # Replacing instances of a character followed by \"n't\" contractions with the character followed by \" not\"\n",
    "    tweet = re.sub(r'(\\b\\w+)n\\'t\\b', r'\\1 not', tweet)\n",
    "    \n",
    "    # Replacing 'll with will\n",
    "    pattern_will = r'(\\b\\w+)\\'ll\\b'\n",
    "    tweet =  re.sub(pattern_will, r'\\1 will', tweet)\n",
    "    \n",
    "    # Replacing 've with have\n",
    "    pattern_ve = r'(\\b\\w+)\\'ve\\b'\n",
    "    tweet = re.sub(pattern_ve, r'\\1 have', tweet)\n",
    "    \n",
    "    # Replacing any non-character or whitespace with an empty string\n",
    "    tweet = re.sub(r'[^\\w\\s]', '', tweet)\n",
    "    \n",
    "    # Removing digits\n",
    "    tweet = re.sub(r'\\d', '', tweet)\n",
    "    \n",
    "    # Replacing all double spaces with single spaces\n",
    "    #IF I TOKENIZE, MAYBE THIS IS USELESS\n",
    "    tweet = tweet.replace(\"  \", \" \")\n",
    "    tweet = tweet.replace(\"  \", \" \")\n",
    "  \n",
    "    # Removing any trailing whitespace\n",
    "    tweet = tweet.rstrip()\n",
    "    \n",
    "    # Lowercase\n",
    "    tweet = tweet.lower()\n",
    "    \n",
    "    \n",
    "    return tweet\n"
   ]
  },
  {
   "cell_type": "markdown",
   "id": "55aeefaf",
   "metadata": {},
   "source": [
    "EXPLANATION HERE: The reason why we handle negation (that is, replacing won't with will not, can't with cannot and shouldn't, couldn't... with should/could/... not, is because we will remove punctuation later on when preprocessing the data and cases such as can't, for instance, will end up as \"can t\". During the stopword removal, the t will be removed as it is a single character adding no value. Since our purpose is to analyse the sentiment of tweets, something that originally was \"can't\" and could possibly have a negative sentiment, after prepocessing the data will turn into \"can\" (because we've removed punctuation and stopwords, so the \"t\" is removed) which could be interpreted as a positive sentiment. Thus, we'll end up with a false positive."
   ]
  },
  {
   "cell_type": "code",
   "execution_count": 140,
   "id": "612bbb63",
   "metadata": {},
   "outputs": [],
   "source": [
    "example = \"I can't be there,my cat is sick. @example I pray for my dog, sheï¿½s not well. Have an invite for &quot;Healthy Dining&quot;. She'll be ok. I've had a great time. Double space here:  #example #testing Mira este link: https://ejemplo.com or here too: www.hola.es. I won't be there. My email is anagzl@student.gu.se I can't be there. You shouldn't be there. Today is my 29th birthday! \""
   ]
  },
  {
   "cell_type": "code",
   "execution_count": 90,
   "id": "265f1359",
   "metadata": {},
   "outputs": [],
   "source": [
    "example2 = \"I'm silly @NKDreamer did you see Donnie's tweet stats? almost 700 @ replies...and no JRK \""
   ]
  },
  {
   "cell_type": "code",
   "execution_count": 92,
   "id": "bc14164f",
   "metadata": {},
   "outputs": [],
   "source": [
    "example3 = \"i'm ok,just found out I was working for nothing!how are you doing?hope well!\""
   ]
  },
  {
   "cell_type": "code",
   "execution_count": 149,
   "id": "b294c152",
   "metadata": {},
   "outputs": [],
   "source": [
    "example4 = \"@BobMetcalfe I had the same experience this week. New web anita@gmail.com Won't work. I won't go home. I can't make it today.I was at 200 and am back to 204. The bicycle is calling me already.  Can't until 2nite@ \""
   ]
  },
  {
   "cell_type": "code",
   "execution_count": 202,
   "id": "6e601883",
   "metadata": {},
   "outputs": [
    {
     "name": "stdout",
     "output_type": "stream",
     "text": [
      " a thats a bummer you shoulda got david carr of third day to do it d\n"
     ]
    }
   ],
   "source": [
    "result = data_preprocessing(\"@switchfoot http://twitpic.com/2y1zl - Awww, that's a bummer.  You shoulda got David Carr of Third Day to do it. ;D\")\n",
    "print(result)"
   ]
  },
  {
   "cell_type": "markdown",
   "id": "b0883b80",
   "metadata": {},
   "source": []
  },
  {
   "cell_type": "code",
   "execution_count": 174,
   "id": "6f721e2e",
   "metadata": {},
   "outputs": [
    {
     "name": "stdout",
     "output_type": "stream",
     "text": [
      "Preprocessing data...\n",
      "\n",
      "Tweets 100000 of 1600000 have been processed\n",
      "Tweets 200000 of 1600000 have been processed\n",
      "Tweets 300000 of 1600000 have been processed\n",
      "Tweets 400000 of 1600000 have been processed\n",
      "Tweets 500000 of 1600000 have been processed\n",
      "Tweets 600000 of 1600000 have been processed\n",
      "Tweets 700000 of 1600000 have been processed\n",
      "Tweets 800000 of 1600000 have been processed\n",
      "Tweets 900000 of 1600000 have been processed\n",
      "Tweets 1000000 of 1600000 have been processed\n",
      "Tweets 1100000 of 1600000 have been processed\n",
      "Tweets 1200000 of 1600000 have been processed\n",
      "Tweets 1300000 of 1600000 have been processed\n",
      "Tweets 1400000 of 1600000 have been processed\n",
      "Tweets 1500000 of 1600000 have been processed\n",
      "Tweets 1600000 of 1600000 have been processed\n",
      "CPU times: user 2min 37s, sys: 248 ms, total: 2min 38s\n",
      "Wall time: 2min 39s\n"
     ]
    }
   ],
   "source": [
    "%%time\n",
    "\n",
    "print('Preprocessing data...\\n')\n",
    "clean_data = []\n",
    "num = 0\n",
    "for item in dataset['text']:\n",
    "    clean_data.append(data_preprocessing(item))\n",
    "    num += 1\n",
    "    if num % 100000 == 0:\n",
    "        print(f\"Tweets {num} of 1600000 have been processed\")"
   ]
  },
  {
   "cell_type": "markdown",
   "id": "2f4cbc4b",
   "metadata": {},
   "source": [
    "trying stuff\n",
    "\n",
    "%%time\n",
    "\n",
    "print(\"Preprocessing data...\\n\")\n",
    "clean_data = []\n",
    "\n",
    "for i in range(0, 800000):\n",
    "    if (i+1) % 10000 == 0:\n",
    "        print(f\"Tweets {i+1} of 800000 have been processed\")\n",
    "    # Using the at[] method of the DataFrame to access the i-th element of the 'text' column\n",
    "    clean_data.append(data_preprocessing(dataset.at[i, \"text\"]))"
   ]
  },
  {
   "cell_type": "code",
   "execution_count": null,
   "id": "abb15524",
   "metadata": {},
   "outputs": [],
   "source": []
  },
  {
   "cell_type": "code",
   "execution_count": 176,
   "id": "a05881ab",
   "metadata": {},
   "outputs": [
    {
     "data": {
      "text/html": [
       "<div>\n",
       "<style scoped>\n",
       "    .dataframe tbody tr th:only-of-type {\n",
       "        vertical-align: middle;\n",
       "    }\n",
       "\n",
       "    .dataframe tbody tr th {\n",
       "        vertical-align: top;\n",
       "    }\n",
       "\n",
       "    .dataframe thead th {\n",
       "        text-align: right;\n",
       "    }\n",
       "</style>\n",
       "<table border=\"1\" class=\"dataframe\">\n",
       "  <thead>\n",
       "    <tr style=\"text-align: right;\">\n",
       "      <th></th>\n",
       "      <th>text</th>\n",
       "      <th>sentiment</th>\n",
       "    </tr>\n",
       "  </thead>\n",
       "  <tbody>\n",
       "    <tr>\n",
       "      <th>0</th>\n",
       "      <td>a thats a bummer you shoulda got david carr o...</td>\n",
       "      <td>0</td>\n",
       "    </tr>\n",
       "    <tr>\n",
       "      <th>1</th>\n",
       "      <td>is upset that he cannot update his facebook by...</td>\n",
       "      <td>0</td>\n",
       "    </tr>\n",
       "    <tr>\n",
       "      <th>2</th>\n",
       "      <td>i dived many times for the ball managed to sa...</td>\n",
       "      <td>0</td>\n",
       "    </tr>\n",
       "    <tr>\n",
       "      <th>3</th>\n",
       "      <td>my whole body feels itchy and like its on fire</td>\n",
       "      <td>0</td>\n",
       "    </tr>\n",
       "    <tr>\n",
       "      <th>4</th>\n",
       "      <td>no its not behaving at all i am mad why am i ...</td>\n",
       "      <td>0</td>\n",
       "    </tr>\n",
       "    <tr>\n",
       "      <th>5</th>\n",
       "      <td>not the whole crew</td>\n",
       "      <td>0</td>\n",
       "    </tr>\n",
       "    <tr>\n",
       "      <th>6</th>\n",
       "      <td>need a hug</td>\n",
       "      <td>0</td>\n",
       "    </tr>\n",
       "    <tr>\n",
       "      <th>7</th>\n",
       "      <td>hey long time no see yes rains a bit only a b...</td>\n",
       "      <td>0</td>\n",
       "    </tr>\n",
       "    <tr>\n",
       "      <th>8</th>\n",
       "      <td>nope they did not have it</td>\n",
       "      <td>0</td>\n",
       "    </tr>\n",
       "    <tr>\n",
       "      <th>9</th>\n",
       "      <td>que me muera</td>\n",
       "      <td>0</td>\n",
       "    </tr>\n",
       "  </tbody>\n",
       "</table>\n",
       "</div>"
      ],
      "text/plain": [
       "                                                text  sentiment\n",
       "0   a thats a bummer you shoulda got david carr o...          0\n",
       "1  is upset that he cannot update his facebook by...          0\n",
       "2   i dived many times for the ball managed to sa...          0\n",
       "3     my whole body feels itchy and like its on fire          0\n",
       "4   no its not behaving at all i am mad why am i ...          0\n",
       "5                                 not the whole crew          0\n",
       "6                                         need a hug          0\n",
       "7   hey long time no see yes rains a bit only a b...          0\n",
       "8                          nope they did not have it          0\n",
       "9                                       que me muera          0"
      ]
     },
     "execution_count": 176,
     "metadata": {},
     "output_type": "execute_result"
    }
   ],
   "source": [
    "# Creating a Pandas DataFrame from the list of prepocessed tweets\n",
    "clean_df = pd.DataFrame(clean_data,columns=['text'])\n",
    "clean_df['sentiment'] = dataset.sentiment\n",
    "clean_df.head(10)"
   ]
  },
  {
   "cell_type": "code",
   "execution_count": null,
   "id": "3e7ef410",
   "metadata": {},
   "outputs": [],
   "source": []
  },
  {
   "cell_type": "code",
   "execution_count": 179,
   "id": "220c1e0a",
   "metadata": {},
   "outputs": [],
   "source": [
    "# Save the DataFrame to a CSV file\n",
    "clean_df.to_csv('clean_data.csv', encoding='utf-8')"
   ]
  },
  {
   "cell_type": "code",
   "execution_count": 180,
   "id": "da4b4b19",
   "metadata": {},
   "outputs": [],
   "source": [
    "#Loading the preprocessed data as a pandas dataframe\n",
    "data_df = pd.read_csv('clean_data.csv', index_col=0)"
   ]
  },
  {
   "cell_type": "code",
   "execution_count": 181,
   "id": "111d807c",
   "metadata": {},
   "outputs": [
    {
     "data": {
      "text/html": [
       "<div>\n",
       "<style scoped>\n",
       "    .dataframe tbody tr th:only-of-type {\n",
       "        vertical-align: middle;\n",
       "    }\n",
       "\n",
       "    .dataframe tbody tr th {\n",
       "        vertical-align: top;\n",
       "    }\n",
       "\n",
       "    .dataframe thead th {\n",
       "        text-align: right;\n",
       "    }\n",
       "</style>\n",
       "<table border=\"1\" class=\"dataframe\">\n",
       "  <thead>\n",
       "    <tr style=\"text-align: right;\">\n",
       "      <th></th>\n",
       "      <th>text</th>\n",
       "      <th>sentiment</th>\n",
       "    </tr>\n",
       "  </thead>\n",
       "  <tbody>\n",
       "    <tr>\n",
       "      <th>0</th>\n",
       "      <td>a thats a bummer you shoulda got david carr o...</td>\n",
       "      <td>0</td>\n",
       "    </tr>\n",
       "    <tr>\n",
       "      <th>1</th>\n",
       "      <td>is upset that he cannot update his facebook by...</td>\n",
       "      <td>0</td>\n",
       "    </tr>\n",
       "    <tr>\n",
       "      <th>2</th>\n",
       "      <td>i dived many times for the ball managed to sa...</td>\n",
       "      <td>0</td>\n",
       "    </tr>\n",
       "    <tr>\n",
       "      <th>3</th>\n",
       "      <td>my whole body feels itchy and like its on fire</td>\n",
       "      <td>0</td>\n",
       "    </tr>\n",
       "    <tr>\n",
       "      <th>4</th>\n",
       "      <td>no its not behaving at all i am mad why am i ...</td>\n",
       "      <td>0</td>\n",
       "    </tr>\n",
       "  </tbody>\n",
       "</table>\n",
       "</div>"
      ],
      "text/plain": [
       "                                                text  sentiment\n",
       "0   a thats a bummer you shoulda got david carr o...          0\n",
       "1  is upset that he cannot update his facebook by...          0\n",
       "2   i dived many times for the ball managed to sa...          0\n",
       "3     my whole body feels itchy and like its on fire          0\n",
       "4   no its not behaving at all i am mad why am i ...          0"
      ]
     },
     "execution_count": 181,
     "metadata": {},
     "output_type": "execute_result"
    }
   ],
   "source": [
    "data_df.head()"
   ]
  },
  {
   "cell_type": "code",
   "execution_count": 205,
   "id": "69991ece",
   "metadata": {},
   "outputs": [
    {
     "name": "stdout",
     "output_type": "stream",
     "text": [
      "<class 'pandas.core.frame.DataFrame'>\n",
      "Int64Index: 1600000 entries, 0 to 1599999\n",
      "Data columns (total 2 columns):\n",
      " #   Column     Non-Null Count    Dtype \n",
      "---  ------     --------------    ----- \n",
      " 0   text       1596712 non-null  object\n",
      " 1   sentiment  1600000 non-null  int64 \n",
      "dtypes: int64(1), object(1)\n",
      "memory usage: 36.6+ MB\n"
     ]
    }
   ],
   "source": [
    "data_df.info()\n"
   ]
  },
  {
   "cell_type": "code",
   "execution_count": 207,
   "id": "8af5cbf1",
   "metadata": {},
   "outputs": [
    {
     "data": {
      "text/html": [
       "<div>\n",
       "<style scoped>\n",
       "    .dataframe tbody tr th:only-of-type {\n",
       "        vertical-align: middle;\n",
       "    }\n",
       "\n",
       "    .dataframe tbody tr th {\n",
       "        vertical-align: top;\n",
       "    }\n",
       "\n",
       "    .dataframe thead th {\n",
       "        text-align: right;\n",
       "    }\n",
       "</style>\n",
       "<table border=\"1\" class=\"dataframe\">\n",
       "  <thead>\n",
       "    <tr style=\"text-align: right;\">\n",
       "      <th></th>\n",
       "      <th>text</th>\n",
       "      <th>sentiment</th>\n",
       "    </tr>\n",
       "  </thead>\n",
       "  <tbody>\n",
       "    <tr>\n",
       "      <th>208</th>\n",
       "      <td>NaN</td>\n",
       "      <td>0</td>\n",
       "    </tr>\n",
       "    <tr>\n",
       "      <th>249</th>\n",
       "      <td>NaN</td>\n",
       "      <td>0</td>\n",
       "    </tr>\n",
       "    <tr>\n",
       "      <th>282</th>\n",
       "      <td>NaN</td>\n",
       "      <td>0</td>\n",
       "    </tr>\n",
       "    <tr>\n",
       "      <th>398</th>\n",
       "      <td>NaN</td>\n",
       "      <td>0</td>\n",
       "    </tr>\n",
       "    <tr>\n",
       "      <th>430</th>\n",
       "      <td>NaN</td>\n",
       "      <td>0</td>\n",
       "    </tr>\n",
       "    <tr>\n",
       "      <th>...</th>\n",
       "      <td>...</td>\n",
       "      <td>...</td>\n",
       "    </tr>\n",
       "    <tr>\n",
       "      <th>1597326</th>\n",
       "      <td>NaN</td>\n",
       "      <td>4</td>\n",
       "    </tr>\n",
       "    <tr>\n",
       "      <th>1597684</th>\n",
       "      <td>NaN</td>\n",
       "      <td>4</td>\n",
       "    </tr>\n",
       "    <tr>\n",
       "      <th>1598272</th>\n",
       "      <td>NaN</td>\n",
       "      <td>4</td>\n",
       "    </tr>\n",
       "    <tr>\n",
       "      <th>1599494</th>\n",
       "      <td>NaN</td>\n",
       "      <td>4</td>\n",
       "    </tr>\n",
       "    <tr>\n",
       "      <th>1599993</th>\n",
       "      <td>NaN</td>\n",
       "      <td>4</td>\n",
       "    </tr>\n",
       "  </tbody>\n",
       "</table>\n",
       "<p>3288 rows × 2 columns</p>\n",
       "</div>"
      ],
      "text/plain": [
       "        text  sentiment\n",
       "208      NaN          0\n",
       "249      NaN          0\n",
       "282      NaN          0\n",
       "398      NaN          0\n",
       "430      NaN          0\n",
       "...      ...        ...\n",
       "1597326  NaN          4\n",
       "1597684  NaN          4\n",
       "1598272  NaN          4\n",
       "1599494  NaN          4\n",
       "1599993  NaN          4\n",
       "\n",
       "[3288 rows x 2 columns]"
      ]
     },
     "execution_count": 207,
     "metadata": {},
     "output_type": "execute_result"
    }
   ],
   "source": [
    "data_df[data_df.isnull().any(axis=1)]\n"
   ]
  },
  {
   "cell_type": "code",
   "execution_count": null,
   "id": "228ad1f7",
   "metadata": {},
   "outputs": [],
   "source": []
  },
  {
   "cell_type": "markdown",
   "id": "14080b72",
   "metadata": {},
   "source": [
    "NEXT STEP: STOP WORDS, TOKENIZATION, stemming/lemmatization -- check SA_model_LSTM"
   ]
  },
  {
   "cell_type": "code",
   "execution_count": null,
   "id": "54dde586",
   "metadata": {},
   "outputs": [],
   "source": []
  },
  {
   "cell_type": "code",
   "execution_count": null,
   "id": "fae35be3",
   "metadata": {},
   "outputs": [],
   "source": []
  },
  {
   "cell_type": "code",
   "execution_count": null,
   "id": "2862bab4",
   "metadata": {},
   "outputs": [],
   "source": []
  },
  {
   "cell_type": "markdown",
   "id": "2091a4ff",
   "metadata": {},
   "source": [
    "## Attention: following the step-by-step tutorial in PDF (SA_with_LSTM_tutorial.pdf) saved locally."
   ]
  },
  {
   "cell_type": "markdown",
   "id": "6fb61631",
   "metadata": {},
   "source": [
    "We'll be following some of these steps but applied to tweets and not Amazon reviews:\n",
    "\n",
    "1. Load in and visualize the data\n",
    "2. Data Processing — convert to lower case\n",
    "3. Data Processing — Remove punctuation\n",
    "4. Data Processing — Create list of reviews\n",
    "5. Tokenize — Create Vocab to Int mapping dictionary\n",
    "6. Tokenize — Encode the words\n",
    "7. Tokenize — Encode the labels\n",
    "8. Analyze Reviews Length\n",
    "9. Removing Outliers — Getting rid of extremely long or short reviews\n",
    "10. Padding / Truncating the remaining data\n",
    "11. Training, Validation, Test Dataset Split\n",
    "12. Dataloaders and Batching\n",
    "13. Define the LSTM Network Architecture\n",
    "14. Define the Model Class\n",
    "15. Training the Network\n",
    "16. Testing (on Test data and User- generated data)\n",
    "\n",
    "### what about stopwords?"
   ]
  },
  {
   "cell_type": "markdown",
   "id": "1b89332b",
   "metadata": {},
   "source": [
    "1. Load in and visualize the data - it's already done above"
   ]
  },
  {
   "cell_type": "markdown",
   "id": "7dd3b518",
   "metadata": {},
   "source": [
    "Next: 2. Data Processing — convert to lower case"
   ]
  },
  {
   "cell_type": "code",
   "execution_count": 57,
   "id": "6136d77c",
   "metadata": {},
   "outputs": [
    {
     "data": {
      "text/html": [
       "<div>\n",
       "<style scoped>\n",
       "    .dataframe tbody tr th:only-of-type {\n",
       "        vertical-align: middle;\n",
       "    }\n",
       "\n",
       "    .dataframe tbody tr th {\n",
       "        vertical-align: top;\n",
       "    }\n",
       "\n",
       "    .dataframe thead th {\n",
       "        text-align: right;\n",
       "    }\n",
       "</style>\n",
       "<table border=\"1\" class=\"dataframe\">\n",
       "  <thead>\n",
       "    <tr style=\"text-align: right;\">\n",
       "      <th></th>\n",
       "      <th>sentiment</th>\n",
       "      <th>text</th>\n",
       "    </tr>\n",
       "  </thead>\n",
       "  <tbody>\n",
       "    <tr>\n",
       "      <th>0</th>\n",
       "      <td>0</td>\n",
       "      <td>@switchfoot http://twitpic.com/2y1zl - Awww, t...</td>\n",
       "    </tr>\n",
       "    <tr>\n",
       "      <th>1</th>\n",
       "      <td>0</td>\n",
       "      <td>is upset that he can't update his Facebook by ...</td>\n",
       "    </tr>\n",
       "    <tr>\n",
       "      <th>2</th>\n",
       "      <td>0</td>\n",
       "      <td>@Kenichan I dived many times for the ball. Man...</td>\n",
       "    </tr>\n",
       "    <tr>\n",
       "      <th>3</th>\n",
       "      <td>0</td>\n",
       "      <td>my whole body feels itchy and like its on fire</td>\n",
       "    </tr>\n",
       "    <tr>\n",
       "      <th>4</th>\n",
       "      <td>0</td>\n",
       "      <td>@nationwideclass no, it's not behaving at all....</td>\n",
       "    </tr>\n",
       "    <tr>\n",
       "      <th>...</th>\n",
       "      <td>...</td>\n",
       "      <td>...</td>\n",
       "    </tr>\n",
       "    <tr>\n",
       "      <th>1599995</th>\n",
       "      <td>4</td>\n",
       "      <td>Just woke up. Having no school is the best fee...</td>\n",
       "    </tr>\n",
       "    <tr>\n",
       "      <th>1599996</th>\n",
       "      <td>4</td>\n",
       "      <td>TheWDB.com - Very cool to hear old Walt interv...</td>\n",
       "    </tr>\n",
       "    <tr>\n",
       "      <th>1599997</th>\n",
       "      <td>4</td>\n",
       "      <td>Are you ready for your MoJo Makeover? Ask me f...</td>\n",
       "    </tr>\n",
       "    <tr>\n",
       "      <th>1599998</th>\n",
       "      <td>4</td>\n",
       "      <td>Happy 38th Birthday to my boo of alll time!!! ...</td>\n",
       "    </tr>\n",
       "    <tr>\n",
       "      <th>1599999</th>\n",
       "      <td>4</td>\n",
       "      <td>happy #charitytuesday @theNSPCC @SparksCharity...</td>\n",
       "    </tr>\n",
       "  </tbody>\n",
       "</table>\n",
       "<p>1600000 rows × 2 columns</p>\n",
       "</div>"
      ],
      "text/plain": [
       "         sentiment                                               text\n",
       "0                0  @switchfoot http://twitpic.com/2y1zl - Awww, t...\n",
       "1                0  is upset that he can't update his Facebook by ...\n",
       "2                0  @Kenichan I dived many times for the ball. Man...\n",
       "3                0    my whole body feels itchy and like its on fire \n",
       "4                0  @nationwideclass no, it's not behaving at all....\n",
       "...            ...                                                ...\n",
       "1599995          4  Just woke up. Having no school is the best fee...\n",
       "1599996          4  TheWDB.com - Very cool to hear old Walt interv...\n",
       "1599997          4  Are you ready for your MoJo Makeover? Ask me f...\n",
       "1599998          4  Happy 38th Birthday to my boo of alll time!!! ...\n",
       "1599999          4  happy #charitytuesday @theNSPCC @SparksCharity...\n",
       "\n",
       "[1600000 rows x 2 columns]"
      ]
     },
     "execution_count": 57,
     "metadata": {},
     "output_type": "execute_result"
    }
   ],
   "source": [
    "dataset"
   ]
  },
  {
   "cell_type": "code",
   "execution_count": 56,
   "id": "bd1a56f5",
   "metadata": {},
   "outputs": [],
   "source": [
    "def data_cleaner(data):\n",
    "    #removing capital letters\n",
    "    data['text'] = data['text'].str.lower()\n",
    "    return data"
   ]
  },
  {
   "cell_type": "code",
   "execution_count": 42,
   "id": "22994c71",
   "metadata": {},
   "outputs": [],
   "source": [
    "clean = data_cleaner(dataset)"
   ]
  },
  {
   "cell_type": "code",
   "execution_count": 45,
   "id": "ad4f0e26",
   "metadata": {},
   "outputs": [
    {
     "data": {
      "text/html": [
       "<div>\n",
       "<style scoped>\n",
       "    .dataframe tbody tr th:only-of-type {\n",
       "        vertical-align: middle;\n",
       "    }\n",
       "\n",
       "    .dataframe tbody tr th {\n",
       "        vertical-align: top;\n",
       "    }\n",
       "\n",
       "    .dataframe thead th {\n",
       "        text-align: right;\n",
       "    }\n",
       "</style>\n",
       "<table border=\"1\" class=\"dataframe\">\n",
       "  <thead>\n",
       "    <tr style=\"text-align: right;\">\n",
       "      <th></th>\n",
       "      <th>sentiment</th>\n",
       "      <th>text</th>\n",
       "    </tr>\n",
       "  </thead>\n",
       "  <tbody>\n",
       "    <tr>\n",
       "      <th>0</th>\n",
       "      <td>0</td>\n",
       "      <td>@switchfoot http://twitpic.com/2y1zl - awww, t...</td>\n",
       "    </tr>\n",
       "    <tr>\n",
       "      <th>1</th>\n",
       "      <td>0</td>\n",
       "      <td>is upset that he can't update his facebook by ...</td>\n",
       "    </tr>\n",
       "    <tr>\n",
       "      <th>2</th>\n",
       "      <td>0</td>\n",
       "      <td>@kenichan i dived many times for the ball. man...</td>\n",
       "    </tr>\n",
       "    <tr>\n",
       "      <th>3</th>\n",
       "      <td>0</td>\n",
       "      <td>my whole body feels itchy and like its on fire</td>\n",
       "    </tr>\n",
       "    <tr>\n",
       "      <th>4</th>\n",
       "      <td>0</td>\n",
       "      <td>@nationwideclass no, it's not behaving at all....</td>\n",
       "    </tr>\n",
       "    <tr>\n",
       "      <th>...</th>\n",
       "      <td>...</td>\n",
       "      <td>...</td>\n",
       "    </tr>\n",
       "    <tr>\n",
       "      <th>1599995</th>\n",
       "      <td>4</td>\n",
       "      <td>just woke up. having no school is the best fee...</td>\n",
       "    </tr>\n",
       "    <tr>\n",
       "      <th>1599996</th>\n",
       "      <td>4</td>\n",
       "      <td>thewdb.com - very cool to hear old walt interv...</td>\n",
       "    </tr>\n",
       "    <tr>\n",
       "      <th>1599997</th>\n",
       "      <td>4</td>\n",
       "      <td>are you ready for your mojo makeover? ask me f...</td>\n",
       "    </tr>\n",
       "    <tr>\n",
       "      <th>1599998</th>\n",
       "      <td>4</td>\n",
       "      <td>happy 38th birthday to my boo of alll time!!! ...</td>\n",
       "    </tr>\n",
       "    <tr>\n",
       "      <th>1599999</th>\n",
       "      <td>4</td>\n",
       "      <td>happy #charitytuesday @thenspcc @sparkscharity...</td>\n",
       "    </tr>\n",
       "  </tbody>\n",
       "</table>\n",
       "<p>1600000 rows × 2 columns</p>\n",
       "</div>"
      ],
      "text/plain": [
       "         sentiment                                               text\n",
       "0                0  @switchfoot http://twitpic.com/2y1zl - awww, t...\n",
       "1                0  is upset that he can't update his facebook by ...\n",
       "2                0  @kenichan i dived many times for the ball. man...\n",
       "3                0    my whole body feels itchy and like its on fire \n",
       "4                0  @nationwideclass no, it's not behaving at all....\n",
       "...            ...                                                ...\n",
       "1599995          4  just woke up. having no school is the best fee...\n",
       "1599996          4  thewdb.com - very cool to hear old walt interv...\n",
       "1599997          4  are you ready for your mojo makeover? ask me f...\n",
       "1599998          4  happy 38th birthday to my boo of alll time!!! ...\n",
       "1599999          4  happy #charitytuesday @thenspcc @sparkscharity...\n",
       "\n",
       "[1600000 rows x 2 columns]"
      ]
     },
     "execution_count": 45,
     "metadata": {},
     "output_type": "execute_result"
    }
   ],
   "source": [
    "clean"
   ]
  },
  {
   "cell_type": "code",
   "execution_count": 60,
   "id": "72fc6f31",
   "metadata": {},
   "outputs": [
    {
     "data": {
      "text/html": [
       "<div>\n",
       "<style scoped>\n",
       "    .dataframe tbody tr th:only-of-type {\n",
       "        vertical-align: middle;\n",
       "    }\n",
       "\n",
       "    .dataframe tbody tr th {\n",
       "        vertical-align: top;\n",
       "    }\n",
       "\n",
       "    .dataframe thead th {\n",
       "        text-align: right;\n",
       "    }\n",
       "</style>\n",
       "<table border=\"1\" class=\"dataframe\">\n",
       "  <thead>\n",
       "    <tr style=\"text-align: right;\">\n",
       "      <th></th>\n",
       "      <th>sentiment</th>\n",
       "      <th>text</th>\n",
       "    </tr>\n",
       "  </thead>\n",
       "  <tbody>\n",
       "    <tr>\n",
       "      <th>0</th>\n",
       "      <td>0</td>\n",
       "      <td>@switchfoot http://twitpic.com/2y1zl - Awww, t...</td>\n",
       "    </tr>\n",
       "    <tr>\n",
       "      <th>1</th>\n",
       "      <td>0</td>\n",
       "      <td>is upset that he can't update his Facebook by ...</td>\n",
       "    </tr>\n",
       "    <tr>\n",
       "      <th>2</th>\n",
       "      <td>0</td>\n",
       "      <td>@Kenichan I dived many times for the ball. Man...</td>\n",
       "    </tr>\n",
       "    <tr>\n",
       "      <th>3</th>\n",
       "      <td>0</td>\n",
       "      <td>my whole body feels itchy and like its on fire</td>\n",
       "    </tr>\n",
       "    <tr>\n",
       "      <th>4</th>\n",
       "      <td>0</td>\n",
       "      <td>@nationwideclass no, it's not behaving at all....</td>\n",
       "    </tr>\n",
       "    <tr>\n",
       "      <th>...</th>\n",
       "      <td>...</td>\n",
       "      <td>...</td>\n",
       "    </tr>\n",
       "    <tr>\n",
       "      <th>1599995</th>\n",
       "      <td>4</td>\n",
       "      <td>Just woke up. Having no school is the best fee...</td>\n",
       "    </tr>\n",
       "    <tr>\n",
       "      <th>1599996</th>\n",
       "      <td>4</td>\n",
       "      <td>TheWDB.com - Very cool to hear old Walt interv...</td>\n",
       "    </tr>\n",
       "    <tr>\n",
       "      <th>1599997</th>\n",
       "      <td>4</td>\n",
       "      <td>Are you ready for your MoJo Makeover? Ask me f...</td>\n",
       "    </tr>\n",
       "    <tr>\n",
       "      <th>1599998</th>\n",
       "      <td>4</td>\n",
       "      <td>Happy 38th Birthday to my boo of alll time!!! ...</td>\n",
       "    </tr>\n",
       "    <tr>\n",
       "      <th>1599999</th>\n",
       "      <td>4</td>\n",
       "      <td>happy #charitytuesday @theNSPCC @SparksCharity...</td>\n",
       "    </tr>\n",
       "  </tbody>\n",
       "</table>\n",
       "<p>1600000 rows × 2 columns</p>\n",
       "</div>"
      ],
      "text/plain": [
       "         sentiment                                               text\n",
       "0                0  @switchfoot http://twitpic.com/2y1zl - Awww, t...\n",
       "1                0  is upset that he can't update his Facebook by ...\n",
       "2                0  @Kenichan I dived many times for the ball. Man...\n",
       "3                0    my whole body feels itchy and like its on fire \n",
       "4                0  @nationwideclass no, it's not behaving at all....\n",
       "...            ...                                                ...\n",
       "1599995          4  Just woke up. Having no school is the best fee...\n",
       "1599996          4  TheWDB.com - Very cool to hear old Walt interv...\n",
       "1599997          4  Are you ready for your MoJo Makeover? Ask me f...\n",
       "1599998          4  Happy 38th Birthday to my boo of alll time!!! ...\n",
       "1599999          4  happy #charitytuesday @theNSPCC @SparksCharity...\n",
       "\n",
       "[1600000 rows x 2 columns]"
      ]
     },
     "execution_count": 60,
     "metadata": {},
     "output_type": "execute_result"
    }
   ],
   "source": [
    "dataset"
   ]
  },
  {
   "cell_type": "markdown",
   "id": "36aadf26",
   "metadata": {},
   "source": [
    "## Removing mentions - @\n",
    "\n",
    "\n",
    "Although mentions (@username) carries some information, it doesn’t add value to the sentiment analysis model."
   ]
  },
  {
   "cell_type": "code",
   "execution_count": 59,
   "id": "d05dbb46",
   "metadata": {},
   "outputs": [],
   "source": [
    "import re"
   ]
  },
  {
   "cell_type": "code",
   "execution_count": 61,
   "id": "e1d104d4",
   "metadata": {},
   "outputs": [
    {
     "ename": "TypeError",
     "evalue": "expected string or bytes-like object",
     "output_type": "error",
     "traceback": [
      "\u001b[0;31m---------------------------------------------------------------------------\u001b[0m",
      "\u001b[0;31mTypeError\u001b[0m                                 Traceback (most recent call last)",
      "Cell \u001b[0;32mIn [61], line 1\u001b[0m\n\u001b[0;32m----> 1\u001b[0m dataset[\u001b[38;5;124m'\u001b[39m\u001b[38;5;124mtext\u001b[39m\u001b[38;5;124m'\u001b[39m] \u001b[38;5;241m=\u001b[39m re\u001b[38;5;241m.\u001b[39msub(\u001b[38;5;124mr\u001b[39m\u001b[38;5;124m\"\u001b[39m\u001b[38;5;124m@[A-Za-z0-9]+\u001b[39m\u001b[38;5;124m\"\u001b[39m,\u001b[38;5;124m\"\u001b[39m\u001b[38;5;124m\"\u001b[39m,dataset[\u001b[38;5;124m'\u001b[39m\u001b[38;5;124mtext\u001b[39m\u001b[38;5;124m'\u001b[39m])\n",
      "File \u001b[0;32m/usr/lib64/python3.10/re.py:209\u001b[0m, in \u001b[0;36msub\u001b[0;34m(pattern, repl, string, count, flags)\u001b[0m\n\u001b[1;32m    202\u001b[0m \u001b[38;5;28;01mdef\u001b[39;00m \u001b[38;5;21msub\u001b[39m(pattern, repl, string, count\u001b[38;5;241m=\u001b[39m\u001b[38;5;241m0\u001b[39m, flags\u001b[38;5;241m=\u001b[39m\u001b[38;5;241m0\u001b[39m):\n\u001b[1;32m    203\u001b[0m     \u001b[38;5;124;03m\"\"\"Return the string obtained by replacing the leftmost\u001b[39;00m\n\u001b[1;32m    204\u001b[0m \u001b[38;5;124;03m    non-overlapping occurrences of the pattern in string by the\u001b[39;00m\n\u001b[1;32m    205\u001b[0m \u001b[38;5;124;03m    replacement repl.  repl can be either a string or a callable;\u001b[39;00m\n\u001b[1;32m    206\u001b[0m \u001b[38;5;124;03m    if a string, backslash escapes in it are processed.  If it is\u001b[39;00m\n\u001b[1;32m    207\u001b[0m \u001b[38;5;124;03m    a callable, it's passed the Match object and must return\u001b[39;00m\n\u001b[1;32m    208\u001b[0m \u001b[38;5;124;03m    a replacement string to be used.\"\"\"\u001b[39;00m\n\u001b[0;32m--> 209\u001b[0m     \u001b[38;5;28;01mreturn\u001b[39;00m \u001b[43m_compile\u001b[49m\u001b[43m(\u001b[49m\u001b[43mpattern\u001b[49m\u001b[43m,\u001b[49m\u001b[43m \u001b[49m\u001b[43mflags\u001b[49m\u001b[43m)\u001b[49m\u001b[38;5;241;43m.\u001b[39;49m\u001b[43msub\u001b[49m\u001b[43m(\u001b[49m\u001b[43mrepl\u001b[49m\u001b[43m,\u001b[49m\u001b[43m \u001b[49m\u001b[43mstring\u001b[49m\u001b[43m,\u001b[49m\u001b[43m \u001b[49m\u001b[43mcount\u001b[49m\u001b[43m)\u001b[49m\n",
      "\u001b[0;31mTypeError\u001b[0m: expected string or bytes-like object"
     ]
    }
   ],
   "source": [
    "dataset['text'] = re.sub(r\"@[A-Za-z0-9]+\",\"\",dataset['text'])"
   ]
  },
  {
   "cell_type": "code",
   "execution_count": 63,
   "id": "132334a0",
   "metadata": {},
   "outputs": [],
   "source": [
    "testing = dataset.text[:10]"
   ]
  },
  {
   "cell_type": "code",
   "execution_count": 65,
   "id": "40a775d0",
   "metadata": {},
   "outputs": [],
   "source": [
    "def cleaning(text):\n",
    "    lower_case = text.lower()\n",
    "    return lower_case"
   ]
  },
  {
   "cell_type": "code",
   "execution_count": 66,
   "id": "879657e1",
   "metadata": {},
   "outputs": [
    {
     "data": {
      "text/plain": [
       "0    @switchfoot http://twitpic.com/2y1zl - Awww, t...\n",
       "1    is upset that he can't update his Facebook by ...\n",
       "2    @Kenichan I dived many times for the ball. Man...\n",
       "3      my whole body feels itchy and like its on fire \n",
       "4    @nationwideclass no, it's not behaving at all....\n",
       "5                        @Kwesidei not the whole crew \n",
       "6                                          Need a hug \n",
       "7    @LOLTrish hey  long time no see! Yes.. Rains a...\n",
       "8                 @Tatiana_K nope they didn't have it \n",
       "9                            @twittera que me muera ? \n",
       "Name: text, dtype: object"
      ]
     },
     "execution_count": 66,
     "metadata": {},
     "output_type": "execute_result"
    }
   ],
   "source": [
    "testing"
   ]
  },
  {
   "cell_type": "code",
   "execution_count": 68,
   "id": "76bc4988",
   "metadata": {},
   "outputs": [],
   "source": [
    "test_result = []\n",
    "for t in testing:\n",
    "    test_result.append(cleaning(t))"
   ]
  },
  {
   "cell_type": "code",
   "execution_count": 69,
   "id": "53b85e27",
   "metadata": {},
   "outputs": [
    {
     "data": {
      "text/plain": [
       "[\"@switchfoot http://twitpic.com/2y1zl - awww, that's a bummer.  you shoulda got david carr of third day to do it. ;d\",\n",
       " \"is upset that he can't update his facebook by texting it... and might cry as a result  school today also. blah!\",\n",
       " '@kenichan i dived many times for the ball. managed to save 50%  the rest go out of bounds',\n",
       " 'my whole body feels itchy and like its on fire ',\n",
       " \"@nationwideclass no, it's not behaving at all. i'm mad. why am i here? because i can't see you all over there. \",\n",
       " '@kwesidei not the whole crew ',\n",
       " 'need a hug ',\n",
       " \"@loltrish hey  long time no see! yes.. rains a bit ,only a bit  lol , i'm fine thanks , how's you ?\",\n",
       " \"@tatiana_k nope they didn't have it \",\n",
       " '@twittera que me muera ? ']"
      ]
     },
     "execution_count": 69,
     "metadata": {},
     "output_type": "execute_result"
    }
   ],
   "source": [
    "test_result"
   ]
  },
  {
   "cell_type": "code",
   "execution_count": null,
   "id": "7ff67a6a",
   "metadata": {},
   "outputs": [],
   "source": []
  },
  {
   "cell_type": "code",
   "execution_count": null,
   "id": "86e1e4df",
   "metadata": {},
   "outputs": [],
   "source": []
  },
  {
   "cell_type": "code",
   "execution_count": null,
   "id": "8bc1b42e",
   "metadata": {},
   "outputs": [],
   "source": []
  },
  {
   "cell_type": "markdown",
   "id": "15bb4e54",
   "metadata": {},
   "source": [
    "NOT SURE ABOUT THIS:\n",
    "\n",
    "Next step: convert the sentiment (categorical) values into numerical values (for the machine to understand). We will use...\n",
    "\n",
    "\n",
    "\n",
    "\"The labels for this dataset are categorical. Machines understand only numeric data. So, convert the categorical values to numeric using the factorize() method. This returns an array of numeric values and an Index of categories.\"\n",
    "\n",
    "https://neptune.ai/blog/sentiment-analysis-python-textblob-vs-vader-vs-flair"
   ]
  },
  {
   "cell_type": "code",
   "execution_count": null,
   "id": "4d8c5073",
   "metadata": {},
   "outputs": [],
   "source": []
  }
 ],
 "metadata": {
  "kernelspec": {
   "display_name": "Python 3 (ipykernel)",
   "language": "python",
   "name": "python3"
  },
  "language_info": {
   "codemirror_mode": {
    "name": "ipython",
    "version": 3
   },
   "file_extension": ".py",
   "mimetype": "text/x-python",
   "name": "python",
   "nbconvert_exporter": "python",
   "pygments_lexer": "ipython3",
   "version": "3.10.8"
  }
 },
 "nbformat": 4,
 "nbformat_minor": 5
}
